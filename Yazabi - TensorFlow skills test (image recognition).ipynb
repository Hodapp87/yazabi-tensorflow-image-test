{
 "cells": [
  {
   "cell_type": "markdown",
   "metadata": {},
   "source": [
    "# Scratch work for TensorFlow skills test (image recognition)\n",
    "\n",
    "- Author: Chris Hodapp\n",
    "- Date: 2017-11-28\n",
    "- For SharpestMinds/Yazabi\n",
    "\n",
    "## Links:\n",
    "\n",
    "- [The Street View House Numbers (SVHN) Dataset](http://ufldl.stanford.edu/housenumbers)\n",
    "  - Using [train_32x32.mat](http://ufldl.stanford.edu/housenumbers/train_32x32.mat) and [test_32x32.mat](http://ufldl.stanford.edu/housenumbers/test_32x32.mat) in `./data` directory\n",
    "- AlexNet\n",
    "  - [ImageNet Classification with Deep Convolutional Neural Networks (slides)](http://vision.stanford.edu/teaching/cs231b_spring1415/slides/alexnet_tugce_kyunghee.pdf)\n",
    "  - [ImageNet Classification with Deep Convolutional Neural Networks (paper)](https://papers.nips.cc/paper/4824-imagenet-classification-with-deep-convolutional-neural-networks.pdf)\n",
    "  - https://github.com/heuritech/convnets-keras/blob/master/convnetskeras/convnets.py#L231\n",
    "  - https://dandxy89.github.io/ImageModels/alexnet/\n",
    "  - [Local Response Normalization (LRN)](https://yeephycho.github.io/2016/08/03/Normalizations-in-neural-networks/#Local-Response-Normalization-LRN)\n",
    "- https://blog.keras.io/building-powerful-image-classification-models-using-very-little-data.html\n",
    "\n",
    "## To do\n",
    "\n",
    "1. Figure out AlexNet architecture adaptations needed here.\n",
    "2. Test on actual images!\n",
    "3. Training/validation split? (`normalize` signature prevents us from applying the same transformation to other images)\n",
    "4. Should I be normalizing over all pixels, or over each pixel location?"
   ]
  },
  {
   "cell_type": "code",
   "execution_count": 46,
   "metadata": {},
   "outputs": [],
   "source": [
    "import tensorflow as tf\n",
    "\n",
    "import keras\n",
    "import keras.backend as K\n",
    "from keras.layers import Dropout, Flatten, Input, merge, Dense, Activation\n",
    "from keras.layers.core import Lambda\n",
    "from keras.layers.convolutional import Conv2D, MaxPooling2D, ZeroPadding2D\n",
    "from keras.models import Model\n",
    "from keras.optimizers import SGD\n",
    "\n",
    "import scipy.io\n",
    "import matplotlib.pyplot as plt\n",
    "import numpy as np\n",
    "import pandas as pd\n",
    "import sklearn.metrics"
   ]
  },
  {
   "cell_type": "markdown",
   "metadata": {},
   "source": [
    "# Data Loading"
   ]
  },
  {
   "cell_type": "code",
   "execution_count": 2,
   "metadata": {},
   "outputs": [],
   "source": [
    "train = scipy.io.loadmat(\"data/train_32x32.mat\")\n",
    "test = scipy.io.loadmat(\"data/test_32x32.mat\")"
   ]
  },
  {
   "cell_type": "code",
   "execution_count": 3,
   "metadata": {},
   "outputs": [
    {
     "name": "stdout",
     "output_type": "stream",
     "text": [
      "['__header__', '__version__', '__globals__', 'X', 'y']\n"
     ]
    }
   ],
   "source": [
    "print(list(train.keys()))"
   ]
  },
  {
   "cell_type": "code",
   "execution_count": 4,
   "metadata": {},
   "outputs": [
    {
     "name": "stdout",
     "output_type": "stream",
     "text": [
      "['__header__', '__version__', '__globals__', 'X', 'y']\n"
     ]
    }
   ],
   "source": [
    "print(list(test.keys()))"
   ]
  },
  {
   "cell_type": "code",
   "execution_count": 5,
   "metadata": {},
   "outputs": [],
   "source": [
    "train_X, train_y = train[\"X\"], train[\"y\"].squeeze()\n",
    "test_X, test_y = test[\"X\"], test[\"y\"].squeeze()"
   ]
  },
  {
   "cell_type": "code",
   "execution_count": 6,
   "metadata": {},
   "outputs": [
    {
     "data": {
      "text/plain": [
       "((32, 32, 3, 73257), (73257,))"
      ]
     },
     "execution_count": 6,
     "metadata": {},
     "output_type": "execute_result"
    }
   ],
   "source": [
    "train_X.shape, train_y.shape"
   ]
  },
  {
   "cell_type": "code",
   "execution_count": 7,
   "metadata": {},
   "outputs": [
    {
     "data": {
      "text/plain": [
       "((32, 32, 3, 26032), (26032,))"
      ]
     },
     "execution_count": 7,
     "metadata": {},
     "output_type": "execute_result"
    }
   ],
   "source": [
    "test_X.shape, test_y.shape"
   ]
  },
  {
   "cell_type": "code",
   "execution_count": 8,
   "metadata": {},
   "outputs": [
    {
     "data": {
      "image/png": "[encoded data removed]",
      "text/plain": [
       "<matplotlib.figure.Figure at 0x7ff642332a90>"
      ]
     },
     "metadata": {},
     "output_type": "display_data"
    }
   ],
   "source": [
    "plt.imshow(train_X[:, :, :, 0])\n",
    "plt.axis('off')\n",
    "plt.show()"
   ]
  },
  {
   "cell_type": "code",
   "execution_count": 9,
   "metadata": {},
   "outputs": [],
   "source": [
    "def stack_rgb(img):\n",
    "    imgs = (img[:, :, 0], img[:, :, 1], img[:, :, 2])\n",
    "    return np.concatenate(imgs, axis=1)"
   ]
  },
  {
   "cell_type": "code",
   "execution_count": 10,
   "metadata": {},
   "outputs": [
    {
     "data": {
      "image/png": "[encoded data removed]",
      "text/plain": [
       "<matplotlib.figure.Figure at 0x7ff62dd38390>"
      ]
     },
     "metadata": {},
     "output_type": "display_data"
    }
   ],
   "source": [
    "plt.imshow(stack_rgb(train_X[:, :, :, 2]), cmap='gray')\n",
    "plt.axis('off')\n",
    "plt.show()"
   ]
  },
  {
   "cell_type": "code",
   "execution_count": 11,
   "metadata": {},
   "outputs": [],
   "source": [
    "# Standard NTSC/PAL luminance:\n",
    "train_X_lum = 0.2989*train_X[:,:,0,:] + 0.5870*train_X[:,:,1,:] + 0.1140*train_X[:,:,2,:]\n",
    "test_X_lum = 0.2989*test_X[:,:,0,:] + 0.5870*test_X[:,:,1,:] + 0.1140*test_X[:,:,2,:]"
   ]
  },
  {
   "cell_type": "code",
   "execution_count": 12,
   "metadata": {},
   "outputs": [
    {
     "data": {
      "image/png": "[encoded data removed]",
      "text/plain": [
       "<matplotlib.figure.Figure at 0x7ff642332898>"
      ]
     },
     "metadata": {},
     "output_type": "display_data"
    }
   ],
   "source": [
    "plt.imshow(train_X_lum[:, :, 2], cmap='gray')\n",
    "plt.axis('off')\n",
    "plt.show()"
   ]
  },
  {
   "cell_type": "markdown",
   "metadata": {},
   "source": [
    "My guess:\n",
    "- Luminance is meant to approximate the brightness we actually see. Images with similar luminance in foreground and background, but different colors, are probably then unlikely: it's just hard to read, and typically also ugly.\n",
    "- However, color could still be a helpful proxy to help with foreground/background."
   ]
  },
  {
   "cell_type": "code",
   "execution_count": 13,
   "metadata": {},
   "outputs": [],
   "source": [
    "def normalize(images):\n",
    "    \"\"\"Converts input images to greyscale, and normalizes them\n",
    "    (i.e. zero mean & unit variance for each pixel coordinate);\n",
    "    returns a new array of images with shape (Y,X,N).\n",
    "    \n",
    "    Parameters:\n",
    "    images -- Input array, shape (Y,X,3,N), for N color XxY images\n",
    "    \"\"\"\n",
    "    r, g, b = images[:,:,0,:], images[:,:,1,:], images[:,:,2,:]\n",
    "    img_lum = 0.2989*r + 0.5870*g + 0.1140*b\n",
    "    # Note the axis=2. This normalization is per-pixel (though since\n",
    "    # every pixel has been normalized, the aggregate mean & stdev\n",
    "    # are also 0 and 1)\n",
    "    mean = img_lum.mean(axis=2)[:,:,np.newaxis]\n",
    "    stdev = img_lum.std(axis=2)[:,:,np.newaxis]\n",
    "    img_norm = (img_lum - mean) / stdev\n",
    "    return img_norm"
   ]
  },
  {
   "cell_type": "code",
   "execution_count": 14,
   "metadata": {},
   "outputs": [
    {
     "data": {
      "text/plain": [
       "(1.0490779352118218e-15, 0.99999999999999878)"
      ]
     },
     "execution_count": 14,
     "metadata": {},
     "output_type": "execute_result"
    }
   ],
   "source": [
    "train_X_norm = normalize(train_X)\n",
    "train_X_norm.mean(), train_X_norm.std()"
   ]
  },
  {
   "cell_type": "code",
   "execution_count": 15,
   "metadata": {},
   "outputs": [
    {
     "data": {
      "text/plain": [
       "10"
      ]
     },
     "execution_count": 15,
     "metadata": {},
     "output_type": "execute_result"
    }
   ],
   "source": [
    "train_y.max()"
   ]
  },
  {
   "cell_type": "code",
   "execution_count": 16,
   "metadata": {},
   "outputs": [
    {
     "data": {
      "image/png": "[encoded data removed]",
      "text/plain": [
       "<matplotlib.figure.Figure at 0x7ff5fbcde160>"
      ]
     },
     "metadata": {},
     "output_type": "display_data"
    }
   ],
   "source": [
    "plt.imshow(train_X_lum[:,:,train_y == 10][:,:,4], cmap='gray')\n",
    "plt.axis('off')\n",
    "plt.show()"
   ]
  },
  {
   "cell_type": "code",
   "execution_count": 17,
   "metadata": {},
   "outputs": [
    {
     "data": {
      "text/plain": [
       "9"
      ]
     },
     "execution_count": 17,
     "metadata": {},
     "output_type": "execute_result"
    }
   ],
   "source": [
    "# Label of 10 appears to be the same as label of 0?\n",
    "train_y[train_y == 10] = 0\n",
    "train_y.max()"
   ]
  },
  {
   "cell_type": "code",
   "execution_count": 18,
   "metadata": {},
   "outputs": [
    {
     "name": "stdout",
     "output_type": "stream",
     "text": [
      "0: 4948 (6.8%)\n",
      "1: 13861 (18.9%)\n",
      "2: 10585 (14.4%)\n",
      "3: 8497 (11.6%)\n",
      "4: 7458 (10.2%)\n",
      "5: 6882 (9.4%)\n",
      "6: 5727 (7.8%)\n",
      "7: 5595 (7.6%)\n",
      "8: 5045 (6.9%)\n",
      "9: 4659 (6.4%)\n"
     ]
    }
   ],
   "source": [
    "# Little lopsided (1 occurs 3 times as often as 0, 8, and 9):\n",
    "for i in range(train_y.max() + 1):\n",
    "    count = (train_y == i).sum()\n",
    "    print(\"{0}: {1} ({2:.1f}%)\".format(i, count, 100.0 * count / train_y.size))"
   ]
  },
  {
   "cell_type": "markdown",
   "metadata": {},
   "source": [
    "## TensorFlow/Keras tests"
   ]
  },
  {
   "cell_type": "code",
   "execution_count": 19,
   "metadata": {},
   "outputs": [],
   "source": [
    "import data_preprocessing"
   ]
  },
  {
   "cell_type": "code",
   "execution_count": 40,
   "metadata": {},
   "outputs": [
    {
     "name": "stdout",
     "output_type": "stream",
     "text": [
      "/cpu:0, CPU, 268435456\n",
      "/device:XLA_CPU:0, XLA_CPU, 17179869184\n",
      "/device:XLA_GPU:0, XLA_GPU, 17179869184\n",
      "/device:XLA_EXEC:0, XLA_EXEC, 17179869184\n",
      "/gpu:0, GPU, 173211648\n"
     ]
    }
   ],
   "source": [
    "from tensorflow.python.client import device_lib\n",
    "\n",
    "for x in device_lib.list_local_devices():\n",
    "    print(\"{0.name}, {0.device_type}, {0.memory_limit}\".format(x))"
   ]
  },
  {
   "cell_type": "code",
   "execution_count": 36,
   "metadata": {},
   "outputs": [],
   "source": [
    "train_X_orig, train_y_orig, _, _ = data_preprocessing.load_data()\n",
    "train_X_orig = data_preprocessing.normalize(train_X_orig)\n",
    "train_X, valid_X, train_y, valid_y = data_preprocessing.split(\n",
    "    train_X_orig, train_y_orig)"
   ]
  },
  {
   "cell_type": "code",
   "execution_count": 21,
   "metadata": {},
   "outputs": [],
   "source": [
    "# Adapted from:\n",
    "# https://github.com/heuritech/convnets-keras/blob/master/convnetskeras/customlayers.py#L9\n",
    "def lrn(alpha=1e-4, k=2, beta=0.75, n=5, **kwargs):\n",
    "    def f(X):\n",
    "        b, r, c, ch = X.shape\n",
    "        half = n // 2\n",
    "        square = keras.backend.square(X)\n",
    "        # TODO: Fix padding here. The scale += ... line is failing.\n",
    "        extra_channels = K.spatial_2d_padding(K.permute_dimensions(square, (0, 2, 3, 1)), ((0, 0), (half, half)))\n",
    "        extra_channels = K.permute_dimensions(extra_channels, (0, 3, 1, 2))\n",
    "        scale = k\n",
    "        for i in range(n):\n",
    "            scale += alpha * extra_channels[:, :, :, i:i + int(ch)]\n",
    "        scale = scale ** beta\n",
    "        return X / scale\n",
    "\n",
    "    return Lambda(f, output_shape=lambda input_shape: input_shape, **kwargs)"
   ]
  },
  {
   "cell_type": "code",
   "execution_count": 22,
   "metadata": {},
   "outputs": [],
   "source": [
    "# Inspired by:\n",
    "# https://github.com/heuritech/convnets-keras/blob/master/convnetskeras/convnets.py#L231\n",
    "# TODO:\n",
    "# Cross-channel normalization?\n",
    "# Can I get rid of 'merge' since I'm not using two GPUs?\n",
    "def AlexNet(input_shape=(227, 227, 3), output_count=1000):\n",
    "    inputs = Input(shape=input_shape)\n",
    "\n",
    "    #conv_1 = Conv2D(96, kernel_size=(11,11), strides=(4, 4), activation='relu', name='conv_1')(inputs)\n",
    "\n",
    "    #conv_2 = MaxPooling2D((3, 3), strides=(2, 2))(conv_1)\n",
    "    #conv_2 = lrn(name='convpool_1')(conv_2)\n",
    "    #conv_2 = ZeroPadding2D((2, 2))(conv_2)\n",
    "    #conv_2 = Conv2D(256, kernel_size=(5,5), activation='relu', name='conv_2')(conv_2)\n",
    "    conv_2 = Conv2D(256, kernel_size=(5,5), activation='relu', name='conv_2')(inputs)\n",
    "    conv_3 = MaxPooling2D((3, 3), strides=(2, 2))(conv_2)\n",
    "    conv_3 = lrn()(conv_3)\n",
    "    conv_3 = ZeroPadding2D((1, 1))(conv_3)\n",
    "    conv_3 = Conv2D(384, kernel_size=(3, 3), activation='relu', name='conv_3')(conv_3)\n",
    "    conv_4 = ZeroPadding2D((1, 1))(conv_3)\n",
    "    conv_4 = Conv2D(384, kernel_size=(3, 3), activation='relu', name='conv_4')(conv_4)\n",
    "    conv_5 = ZeroPadding2D((1, 1))(conv_4)\n",
    "    conv_5 = Conv2D(128, kernel_size=(3, 3), activation='relu', name='conv_5')(conv_5)\n",
    "    dense_1 = MaxPooling2D((3, 3), strides=(2, 2), name='convpool_5')(conv_5)\n",
    "    dense_1 = Flatten(name='flatten')(dense_1)\n",
    "    dense_1 = Dense(4096, activation='relu', name='dense_1')(dense_1)\n",
    "    dense_2 = Dropout(0.5)(dense_1)\n",
    "    dense_2 = Dense(4096, activation='relu', name='dense_2')(dense_2)\n",
    "    dense_3 = Dropout(0.5)(dense_2)\n",
    "    dense_3 = Dense(output_count, name='dense_3')(dense_3)\n",
    "    prediction = Activation('softmax', name='softmax')(dense_3)\n",
    "\n",
    "    model = Model(input=inputs, output=prediction)\n",
    "\n",
    "    return model"
   ]
  },
  {
   "cell_type": "code",
   "execution_count": 23,
   "metadata": {},
   "outputs": [
    {
     "name": "stderr",
     "output_type": "stream",
     "text": [
      "/nix/store/wp8vkmipl73ph4iqdml29sqcv43746si-python3-3.6.3-env/lib/python3.6/site-packages/ipykernel_launcher.py:33: UserWarning: Update your `Model` call to the Keras 2 API: `Model(inputs=Tensor(\"in..., outputs=Tensor(\"so...)`\n"
     ]
    }
   ],
   "source": [
    "alex = AlexNet((32,32,1), 10)"
   ]
  },
  {
   "cell_type": "code",
   "execution_count": 24,
   "metadata": {},
   "outputs": [],
   "source": [
    "# One-hot encode so they can be used for input/validation:\n",
    "train_y_cat = keras.utils.to_categorical(train_y, num_classes=10)\n",
    "valid_y_cat = keras.utils.to_categorical(valid_y, num_classes=10)"
   ]
  },
  {
   "cell_type": "code",
   "execution_count": 25,
   "metadata": {},
   "outputs": [
    {
     "name": "stdout",
     "output_type": "stream",
     "text": [
      "Train on 54942 samples, validate on 18315 samples\n",
      "Epoch 1/10\n",
      "54942/54942 [==============================] - 90s - loss: 0.9133 - acc: 0.6954 - val_loss: 0.3790 - val_acc: 0.8897\n",
      "Epoch 2/10\n",
      "54942/54942 [==============================] - 87s - loss: 0.3527 - acc: 0.8946 - val_loss: 0.3149 - val_acc: 0.9071\n",
      "Epoch 3/10\n",
      "54942/54942 [==============================] - 87s - loss: 0.2772 - acc: 0.9177 - val_loss: 0.2746 - val_acc: 0.9203\n",
      "Epoch 4/10\n",
      "54942/54942 [==============================] - 89s - loss: 0.2324 - acc: 0.9316 - val_loss: 0.2537 - val_acc: 0.9282\n",
      "Epoch 5/10\n",
      "54942/54942 [==============================] - 91s - loss: 0.1951 - acc: 0.9434 - val_loss: 0.2670 - val_acc: 0.9260\n",
      "Epoch 6/10\n",
      "54942/54942 [==============================] - 91s - loss: 0.1657 - acc: 0.9521 - val_loss: 0.2535 - val_acc: 0.9319\n",
      "Epoch 7/10\n",
      "54942/54942 [==============================] - 91s - loss: 0.1418 - acc: 0.9582 - val_loss: 0.2800 - val_acc: 0.9293\n",
      "Epoch 8/10\n",
      "54942/54942 [==============================] - 88s - loss: 0.1223 - acc: 0.9638 - val_loss: 0.2693 - val_acc: 0.9313\n",
      "Epoch 9/10\n",
      "54942/54942 [==============================] - 87s - loss: 0.1136 - acc: 0.9655 - val_loss: 0.3059 - val_acc: 0.9277\n",
      "Epoch 10/10\n",
      "54942/54942 [==============================] - 90s - loss: 0.1068 - acc: 0.9666 - val_loss: 0.2836 - val_acc: 0.9319\n"
     ]
    }
   ],
   "source": [
    "sgd = SGD(lr=0.02, decay=1e-6, momentum=0.9, nesterov=True)\n",
    "alex.compile(loss='categorical_crossentropy',\n",
    "             optimizer=sgd,\n",
    "             metrics=['accuracy'])\n",
    "\n",
    "train_X2 = np.expand_dims(train_X, axis=3)\n",
    "valid_X2 = np.expand_dims(valid_X, axis=3)\n",
    "\n",
    "history = alex.fit(train_X2,\n",
    "                   train_y_cat,\n",
    "                   epochs=10,\n",
    "                   batch_size=64,\n",
    "                   validation_data=(valid_X2, valid_y_cat))"
   ]
  },
  {
   "cell_type": "code",
   "execution_count": 48,
   "metadata": {},
   "outputs": [
    {
     "data": {
      "text/html": [
       "<div>\n",
       "<style scoped>\n",
       "    .dataframe tbody tr th:only-of-type {\n",
       "        vertical-align: middle;\n",
       "    }\n",
       "\n",
       "    .dataframe tbody tr th {\n",
       "        vertical-align: top;\n",
       "    }\n",
       "\n",
       "    .dataframe thead th {\n",
       "        text-align: right;\n",
       "    }\n",
       "</style>\n",
       "<table border=\"1\" class=\"dataframe\">\n",
       "  <thead>\n",
       "    <tr style=\"text-align: right;\">\n",
       "      <th></th>\n",
       "      <th>0</th>\n",
       "      <th>1</th>\n",
       "      <th>2</th>\n",
       "      <th>3</th>\n",
       "      <th>4</th>\n",
       "      <th>5</th>\n",
       "      <th>6</th>\n",
       "      <th>7</th>\n",
       "      <th>8</th>\n",
       "      <th>9</th>\n",
       "    </tr>\n",
       "  </thead>\n",
       "  <tbody>\n",
       "    <tr>\n",
       "      <th>0</th>\n",
       "      <td>1174</td>\n",
       "      <td>24</td>\n",
       "      <td>5</td>\n",
       "      <td>1</td>\n",
       "      <td>3</td>\n",
       "      <td>0</td>\n",
       "      <td>15</td>\n",
       "      <td>1</td>\n",
       "      <td>3</td>\n",
       "      <td>11</td>\n",
       "    </tr>\n",
       "    <tr>\n",
       "      <th>1</th>\n",
       "      <td>15</td>\n",
       "      <td>3280</td>\n",
       "      <td>28</td>\n",
       "      <td>24</td>\n",
       "      <td>40</td>\n",
       "      <td>7</td>\n",
       "      <td>17</td>\n",
       "      <td>39</td>\n",
       "      <td>11</td>\n",
       "      <td>4</td>\n",
       "    </tr>\n",
       "    <tr>\n",
       "      <th>2</th>\n",
       "      <td>6</td>\n",
       "      <td>20</td>\n",
       "      <td>2524</td>\n",
       "      <td>20</td>\n",
       "      <td>15</td>\n",
       "      <td>4</td>\n",
       "      <td>6</td>\n",
       "      <td>19</td>\n",
       "      <td>10</td>\n",
       "      <td>22</td>\n",
       "    </tr>\n",
       "    <tr>\n",
       "      <th>3</th>\n",
       "      <td>9</td>\n",
       "      <td>22</td>\n",
       "      <td>29</td>\n",
       "      <td>1960</td>\n",
       "      <td>8</td>\n",
       "      <td>46</td>\n",
       "      <td>6</td>\n",
       "      <td>10</td>\n",
       "      <td>21</td>\n",
       "      <td>13</td>\n",
       "    </tr>\n",
       "    <tr>\n",
       "      <th>4</th>\n",
       "      <td>5</td>\n",
       "      <td>33</td>\n",
       "      <td>28</td>\n",
       "      <td>14</td>\n",
       "      <td>1747</td>\n",
       "      <td>6</td>\n",
       "      <td>8</td>\n",
       "      <td>2</td>\n",
       "      <td>10</td>\n",
       "      <td>12</td>\n",
       "    </tr>\n",
       "    <tr>\n",
       "      <th>5</th>\n",
       "      <td>1</td>\n",
       "      <td>11</td>\n",
       "      <td>14</td>\n",
       "      <td>52</td>\n",
       "      <td>9</td>\n",
       "      <td>1585</td>\n",
       "      <td>30</td>\n",
       "      <td>3</td>\n",
       "      <td>4</td>\n",
       "      <td>12</td>\n",
       "    </tr>\n",
       "    <tr>\n",
       "      <th>6</th>\n",
       "      <td>18</td>\n",
       "      <td>11</td>\n",
       "      <td>4</td>\n",
       "      <td>5</td>\n",
       "      <td>12</td>\n",
       "      <td>22</td>\n",
       "      <td>1315</td>\n",
       "      <td>3</td>\n",
       "      <td>35</td>\n",
       "      <td>7</td>\n",
       "    </tr>\n",
       "    <tr>\n",
       "      <th>7</th>\n",
       "      <td>6</td>\n",
       "      <td>26</td>\n",
       "      <td>35</td>\n",
       "      <td>10</td>\n",
       "      <td>0</td>\n",
       "      <td>3</td>\n",
       "      <td>1</td>\n",
       "      <td>1308</td>\n",
       "      <td>2</td>\n",
       "      <td>8</td>\n",
       "    </tr>\n",
       "    <tr>\n",
       "      <th>8</th>\n",
       "      <td>22</td>\n",
       "      <td>20</td>\n",
       "      <td>16</td>\n",
       "      <td>17</td>\n",
       "      <td>6</td>\n",
       "      <td>7</td>\n",
       "      <td>36</td>\n",
       "      <td>4</td>\n",
       "      <td>1121</td>\n",
       "      <td>12</td>\n",
       "    </tr>\n",
       "    <tr>\n",
       "      <th>9</th>\n",
       "      <td>25</td>\n",
       "      <td>6</td>\n",
       "      <td>23</td>\n",
       "      <td>18</td>\n",
       "      <td>6</td>\n",
       "      <td>16</td>\n",
       "      <td>1</td>\n",
       "      <td>5</td>\n",
       "      <td>12</td>\n",
       "      <td>1053</td>\n",
       "    </tr>\n",
       "  </tbody>\n",
       "</table>\n",
       "</div>"
      ],
      "text/plain": [
       "      0     1     2     3     4     5     6     7     8     9\n",
       "0  1174    24     5     1     3     0    15     1     3    11\n",
       "1    15  3280    28    24    40     7    17    39    11     4\n",
       "2     6    20  2524    20    15     4     6    19    10    22\n",
       "3     9    22    29  1960     8    46     6    10    21    13\n",
       "4     5    33    28    14  1747     6     8     2    10    12\n",
       "5     1    11    14    52     9  1585    30     3     4    12\n",
       "6    18    11     4     5    12    22  1315     3    35     7\n",
       "7     6    26    35    10     0     3     1  1308     2     8\n",
       "8    22    20    16    17     6     7    36     4  1121    12\n",
       "9    25     6    23    18     6    16     1     5    12  1053"
      ]
     },
     "execution_count": 48,
     "metadata": {},
     "output_type": "execute_result"
    }
   ],
   "source": [
    "valid_y_predict = np.argmax(alex.predict(valid_X2), axis=1)\n",
    "# Confusion matrix (on validation set):\n",
    "conf = sklearn.metrics.confusion_matrix(valid_y, valid_y_predict)\n",
    "conf = pd.DataFrame(conf, columns=range(10), index=range(10))\n",
    "conf"
   ]
  },
  {
   "cell_type": "code",
   "execution_count": 60,
   "metadata": {},
   "outputs": [],
   "source": [
    "conf = conf / conf.sum(axis=1)"
   ]
  },
  {
   "cell_type": "code",
   "execution_count": 61,
   "metadata": {},
   "outputs": [],
   "source": [
    "# Stolen from:\n",
    "# http://scikit-learn.org/stable/auto_examples/model_selection/plot_confusion_matrix.html\n",
    "import itertools\n",
    "def plot_confusion_matrix(cm, classes,\n",
    "                          title='Confusion matrix',\n",
    "                          cmap=plt.cm.Blues):\n",
    "    plt.imshow(cm, interpolation='nearest', cmap=cmap)\n",
    "    plt.title(title)\n",
    "    plt.colorbar()\n",
    "    tick_marks = np.arange(len(classes))\n",
    "    plt.xticks(tick_marks, classes, rotation=45)\n",
    "    plt.yticks(tick_marks, classes)\n",
    "\n",
    "    fmt = '.2f' if normalize else 'd'\n",
    "    thresh = cm.max() / 2.\n",
    "    for i, j in itertools.product(range(cm.shape[0]), range(cm.shape[1])):\n",
    "        plt.text(j, i, format(cm[i, j], fmt),\n",
    "                 horizontalalignment=\"center\",\n",
    "                 color=\"white\" if cm[i, j] > thresh else \"black\")\n",
    "\n",
    "    plt.tight_layout()\n",
    "    plt.ylabel('True label')\n",
    "    plt.xlabel('Predicted label')"
   ]
  },
  {
   "cell_type": "code",
   "execution_count": 62,
   "metadata": {},
   "outputs": [
    {
     "data": {
      "image/png": "[encoded data removed]",
      "text/plain": [
       "<matplotlib.figure.Figure at 0x7ff5d77bf128>"
      ]
     },
     "metadata": {},
     "output_type": "display_data"
    }
   ],
   "source": [
    "plot_confusion_matrix(conf.values, [str(i) for i in range(10)], True)\n",
    "plt.show()"
   ]
  },
  {
   "cell_type": "code",
   "execution_count": null,
   "metadata": {},
   "outputs": [],
   "source": []
  }
 ],
 "metadata": {
  "kernelspec": {
   "display_name": "Python 3",
   "language": "python",
   "name": "python3"
  },
  "language_info": {
   "codemirror_mode": {
    "name": "ipython",
    "version": 3
   },
   "file_extension": ".py",
   "mimetype": "text/x-python",
   "name": "python",
   "nbconvert_exporter": "python",
   "pygments_lexer": "ipython3",
   "version": "3.6.3"
  }
 },
 "nbformat": 4,
 "nbformat_minor": 2
}
